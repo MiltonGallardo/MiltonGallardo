{
  "nbformat": 4,
  "nbformat_minor": 0,
  "metadata": {
    "colab": {
      "name": "Pago_Hipoteca.ipynb",
      "provenance": [],
      "collapsed_sections": [],
      "include_colab_link": true
    },
    "kernelspec": {
      "name": "python3",
      "display_name": "Python 3"
    },
    "language_info": {
      "name": "python"
    }
  },
  "cells": [
    {
      "cell_type": "markdown",
      "metadata": {
        "id": "view-in-github",
        "colab_type": "text"
      },
      "source": [
        "<a href=\"https://colab.research.google.com/github/MiltonGallardo/MiltonGallardo/blob/main/Pago_Hipoteca.ipynb\" target=\"_parent\"><img src=\"https://colab.research.google.com/assets/colab-badge.svg\" alt=\"Open In Colab\"/></a>"
      ]
    },
    {
      "cell_type": "markdown",
      "source": [
        "# **Tarea 2**\n",
        "# Creado por Milton Gallardo\n",
        "# Fecha:6/01/2022\n",
        "\n",
        "Formula para calcular pago de hipoteca\n",
        "# P * r(1+r)**n/(1+r)**n-1\n",
        " \n",
        "# P=400.000\n",
        "# r= 3% anual   ---> 0.25% mensual\n",
        "# n= 3años  ----->   360 meses"
      ],
      "metadata": {
        "id": "otioTCNxLOt0"
      }
    },
    {
      "cell_type": "code",
      "source": [
        "400000*((0.25/100)*(1+(0.25/100))**360)/((1+(0.25/100))**360)-1"
      ],
      "metadata": {
        "colab": {
          "base_uri": "https://localhost:8080/"
        },
        "id": "g4mhjxibWcJd",
        "outputId": "07abc015-c173-4f86-fec5-980389055a61"
      },
      "execution_count": null,
      "outputs": [
        {
          "output_type": "execute_result",
          "data": {
            "text/plain": [
              "1199.0"
            ]
          },
          "metadata": {},
          "execution_count": 3
        }
      ]
    },
    {
      "cell_type": "markdown",
      "source": [
        ""
      ],
      "metadata": {
        "id": "8QVfhyJvOMgZ"
      }
    }
  ]
}