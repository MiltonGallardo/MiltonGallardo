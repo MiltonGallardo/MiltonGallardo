{
  "nbformat": 4,
  "nbformat_minor": 0,
  "metadata": {
    "colab": {
      "name": "matriz_confusion.ipynb",
      "provenance": [],
      "authorship_tag": "ABX9TyN8HUHYJc7DeAArUE0aYhnA",
      "include_colab_link": true
    },
    "kernelspec": {
      "name": "python3",
      "display_name": "Python 3"
    },
    "language_info": {
      "name": "python"
    }
  },
  "cells": [
    {
      "cell_type": "markdown",
      "metadata": {
        "id": "view-in-github",
        "colab_type": "text"
      },
      "source": [
        "<a href=\"https://colab.research.google.com/github/MiltonGallardo/MiltonGallardo/blob/main/Tarea%20semana%204/matriz_confusion.ipynb\" target=\"_parent\"><img src=\"https://colab.research.google.com/assets/colab-badge.svg\" alt=\"Open In Colab\"/></a>"
      ]
    },
    {
      "cell_type": "code",
      "execution_count": null,
      "metadata": {
        "id": "LaLSx6AuB7Ii"
      },
      "outputs": [],
      "source": [
        ""
      ]
    },
    {
      "cell_type": "markdown",
      "source": [
        "# Ejercicio de trazado de matriz de confusión\n",
        "# Milton Gallardo"
      ],
      "metadata": {
        "id": "l-7_tzcKB9Iz"
      }
    },
    {
      "cell_type": "code",
      "source": [
        "import matplotlib.pyplot as plt\n",
        "import seaborn as sns\n",
        "import pandas as pd\n",
        "import numpy as np\n",
        "import matplotlib.pyplot as plt"
      ],
      "metadata": {
        "id": "wZKlpPiHCKDO"
      },
      "execution_count": null,
      "outputs": []
    },
    {
      "cell_type": "code",
      "source": [
        ""
      ],
      "metadata": {
        "id": "89Sla3-mC9VV"
      },
      "execution_count": null,
      "outputs": []
    },
    {
      "cell_type": "code",
      "source": [
        "from sklearn.metrics import confusion_matrix\n",
        "from string import ascii_uppercase\n",
        "\n",
        "\n"
      ],
      "metadata": {
        "id": "Wj-xRJZdCUlQ"
      },
      "execution_count": null,
      "outputs": []
    },
    {
      "cell_type": "code",
      "source": [
        "y_verd=np.array([87,17])\n",
        "y_pred=np.array([16,59])"
      ],
      "metadata": {
        "id": "1x4YPnkqlwOJ"
      },
      "execution_count": null,
      "outputs": []
    },
    {
      "cell_type": "code",
      "source": [
        "cnfm=confusion_matrix(y_verd,y_pred)"
      ],
      "metadata": {
        "id": "FbW9HH71uqyn"
      },
      "execution_count": null,
      "outputs": []
    },
    {
      "cell_type": "code",
      "source": [
        "print(cnfm)\n"
      ],
      "metadata": {
        "colab": {
          "base_uri": "https://localhost:8080/"
        },
        "id": "blLuGkNXnz_l",
        "outputId": "a33444ba-8ab3-4108-8ca0-f978011218a2"
      },
      "execution_count": null,
      "outputs": [
        {
          "output_type": "stream",
          "name": "stdout",
          "text": [
            "[[0 0 0 0]\n",
            " [0 0 1 0]\n",
            " [0 0 0 0]\n",
            " [1 0 0 0]]\n"
          ]
        }
      ]
    },
    {
      "cell_type": "code",
      "source": [
        ""
      ],
      "metadata": {
        "id": "8sndcXW1XBv-"
      },
      "execution_count": null,
      "outputs": []
    }
  ]
}